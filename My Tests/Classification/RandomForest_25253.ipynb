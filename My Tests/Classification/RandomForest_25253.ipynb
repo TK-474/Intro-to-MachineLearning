{
 "cells": [
  {
   "cell_type": "code",
   "execution_count": 14,
   "metadata": {},
   "outputs": [],
   "source": [
    "import pandas as pd\n",
    "from sklearn.ensemble import RandomForestClassifier\n",
    "from sklearn.preprocessing import LabelEncoder\n",
    "from sklearn.impute import SimpleImputer, KNNImputer\n",
    "from sklearn.metrics import accuracy_score, classification_report\n",
    "from sklearn.preprocessing import MinMaxScaler, RobustScaler\n",
    "from sklearn.model_selection import train_test_split, GridSearchCV\n",
    "import numpy as np"
   ]
  },
  {
   "cell_type": "code",
   "execution_count": 15,
   "metadata": {},
   "outputs": [],
   "source": [
    "df1 = pd.read_csv(\"/Users/talalkhan/Documents/Data Sets/train.csv\")\n",
    "df2 = pd.read_csv(\"/Users/talalkhan/Documents/Data Sets/test.csv\")\n"
   ]
  },
  {
   "cell_type": "code",
   "execution_count": 16,
   "metadata": {},
   "outputs": [],
   "source": [
    "#do onehot encoding for categorical columns\n",
    "df1 = pd.get_dummies(df1)\n",
    "df2 = pd.get_dummies(df2)\n",
    "\n"
   ]
  },
  {
   "cell_type": "code",
   "execution_count": 4,
   "metadata": {},
   "outputs": [],
   "source": [
    "# List of categorical columns to label encode\n",
    "categorical_columns = ['ethnicity', 'gender', 'icu_admit_source', 'icu_stay_type', 'icu_type', 'apache_3j_bodysystem', 'apache_2_bodysystem']\n",
    "\n",
    "# Initialize a LabelEncoder for each categorical column\n",
    "label_encoders = {}\n",
    "#label_encoders2 = {}\n",
    "\n",
    "for column in categorical_columns:\n",
    "    le = LabelEncoder()\n",
    "    df1[column] = le.fit_transform(df1[column])\n",
    "    label_encoders[column] = le\n",
    "\n",
    "for column in categorical_columns:\n",
    "    le2 = LabelEncoder()\n",
    "    df2[column] = le2.fit_transform(df2[column])\n",
    "    label_encoders[column] = le2"
   ]
  },
  {
   "cell_type": "code",
   "execution_count": null,
   "metadata": {},
   "outputs": [],
   "source": [
    "#drop colums with low correlation RecordID,encounter_id,patient_id,hospital_id,icu_id\n",
    "df1 = df1.drop(['ventilated_apache','apache_4a_hospital_death_prob','icu_stay_type_readmit', 'apache_3j_bodysystem_Gynecological', 'apache_2_bodysystem_Undefined Diagnoses'], axis=1)\n",
    "df2 = df2.drop(['ventilated_apache', 'apache_4a_hospital_death_prob','icu_stay_type_readmit', 'apache_3j_bodysystem_Gynecological', 'apache_2_bodysystem_Undefined Diagnoses'], axis=1)\n"
   ]
  },
  {
   "cell_type": "code",
   "execution_count": 17,
   "metadata": {},
   "outputs": [],
   "source": [
    "#using simpleimputer to handle nan values\n",
    "#df1\n",
    "imr = SimpleImputer(missing_values=np.nan, strategy='median')\n",
    "imr = imr.fit(df1.values)\n",
    "imputed_data1 = imr.transform(df1.values)\n",
    "#df2\n",
    "imr = SimpleImputer(missing_values=np.nan, strategy='median')\n",
    "imr = imr.fit(df2.values)\n",
    "imputed_data2 = imr.transform(df2.values)\n",
    "\n",
    "#using KNNImputer to handle nan values\n",
    "#df1\n",
    "'''\n",
    "imr = KNNImputer(n_neighbors=2500, weights='uniform')\n",
    "imr = imr.fit(df1.values)\n",
    "imputed_data1 = imr.transform(df1.values)\n",
    "#df2\n",
    "imr = KNNImputer(n_neighbors=2500, weights='uniform')\n",
    "imr = imr.fit(df2.values)\n",
    "imputed_data2 = imr.transform(df2.values)\n",
    "'''\n",
    "# convert the imputed NumPy array back into a Pandas DataFrame\n",
    "df1 = pd.DataFrame(imputed_data1, columns=df1.columns)\n",
    "df2 = pd.DataFrame(imputed_data2, columns=df2.columns)\n"
   ]
  },
  {
   "cell_type": "code",
   "execution_count": 5,
   "metadata": {},
   "outputs": [],
   "source": [
    "#MinMaxscaling \n",
    "scaler = MinMaxScaler()\n",
    "cols_to_scale = df1.columns[df1.columns != 'RecordID']\n",
    "temp = df1.loc[:, ['RecordID']]\n",
    "df1 = pd.DataFrame(scaler.fit_transform(df1[cols_to_scale]), columns=scaler.get_feature_names_out())\n",
    "df1 = pd.concat([temp, df1], axis=1, join='inner')\n",
    "\n",
    "cols_to_scale = df2.columns[df2.columns != 'RecordID']\n",
    "temp = df2.loc[:, ['RecordID']]\n",
    "df2 = pd.DataFrame(scaler.fit_transform(df2[cols_to_scale]), columns=scaler.get_feature_names_out())\n",
    "df2 = pd.concat([temp, df2], axis=1, join='inner')"
   ]
  },
  {
   "cell_type": "code",
   "execution_count": 18,
   "metadata": {},
   "outputs": [],
   "source": [
    "#Rohbust scaling \n",
    "scaler = RobustScaler()\n",
    "cols_to_scale = df1.columns[df1.columns != 'RecordID']\n",
    "temp = df1.loc[:, ['RecordID']]\n",
    "df1 = pd.DataFrame(scaler.fit_transform(df1[cols_to_scale]), columns=scaler.get_feature_names_out())\n",
    "df1 = pd.concat([temp, df1], axis=1, join='inner')\n",
    "\n",
    "cols_to_scale = df2.columns[df2.columns != 'RecordID']\n",
    "temp = df2.loc[:, ['RecordID']]\n",
    "df2 = pd.DataFrame(scaler.fit_transform(df2[cols_to_scale]), columns=scaler.get_feature_names_out())\n",
    "df2 = pd.concat([temp, df2], axis=1, join='inner')"
   ]
  },
  {
   "cell_type": "code",
   "execution_count": 19,
   "metadata": {},
   "outputs": [],
   "source": [
    "X = df1.loc[:, df1.columns != 'hospital_death']\n",
    "y = df1['hospital_death']\n",
    "\n",
    "#split data into train and test sets\n",
    "X_train, X_test, y_train, y_test = train_test_split(X, y, test_size=0.2) #random_state=42)\n",
    "\n",
    "#create decision tree classifier\n",
    "clf = RandomForestClassifier(\n",
    "    n_estimators=1000,  # Increase the number of trees\n",
    "    max_depth=30,       # Limit tree depth to control overfitting\n",
    "    min_samples_split=10,  # Minimum samples required to split\n",
    "    min_samples_leaf=2,    # Minimum samples required at a leaf node\n",
    "    max_features='sqrt',   # Randomly select a subset of features\n",
    "    random_state=42,\n",
    "    n_jobs=-1\n",
    ")\n",
    "#clf.fit(X_train, y_train)"
   ]
  },
  {
   "cell_type": "code",
   "execution_count": null,
   "metadata": {},
   "outputs": [],
   "source": [
    "'''param_grid = {\n",
    "    'n_estimators': [1000, 1500,2000],\n",
    "    'max_depth': [20, 30, 50],\n",
    "    'min_samples_split': [5, 7, 9],\n",
    "    'min_samples_leaf': [250,500,600],\n",
    "    'max_features': ['auto', 'sqrt', 'log2'],\n",
    "    'n_jobs':[-1]\n",
    "}\n",
    "\n",
    "# Create a GridSearchCV object with cross-validation\n",
    "grid_search = GridSearchCV(clf, param_grid, cv=5, n_jobs=-1, scoring='accuracy')\n",
    "\n",
    "# Fit the grid search to the data\n",
    "grid_search.fit(X_train, y_train)\n",
    "\n",
    "# Print the best hyperparameters\n",
    "print(\"Best Hyperparameters:\", grid_search.best_params_)\n",
    "print(\"Best Accuracy:\", grid_search.best_score_)'''"
   ]
  },
  {
   "cell_type": "code",
   "execution_count": 20,
   "metadata": {},
   "outputs": [
    {
     "data": {
      "text/html": [
       "<style>#sk-container-id-2 {color: black;}#sk-container-id-2 pre{padding: 0;}#sk-container-id-2 div.sk-toggleable {background-color: white;}#sk-container-id-2 label.sk-toggleable__label {cursor: pointer;display: block;width: 100%;margin-bottom: 0;padding: 0.3em;box-sizing: border-box;text-align: center;}#sk-container-id-2 label.sk-toggleable__label-arrow:before {content: \"▸\";float: left;margin-right: 0.25em;color: #696969;}#sk-container-id-2 label.sk-toggleable__label-arrow:hover:before {color: black;}#sk-container-id-2 div.sk-estimator:hover label.sk-toggleable__label-arrow:before {color: black;}#sk-container-id-2 div.sk-toggleable__content {max-height: 0;max-width: 0;overflow: hidden;text-align: left;background-color: #f0f8ff;}#sk-container-id-2 div.sk-toggleable__content pre {margin: 0.2em;color: black;border-radius: 0.25em;background-color: #f0f8ff;}#sk-container-id-2 input.sk-toggleable__control:checked~div.sk-toggleable__content {max-height: 200px;max-width: 100%;overflow: auto;}#sk-container-id-2 input.sk-toggleable__control:checked~label.sk-toggleable__label-arrow:before {content: \"▾\";}#sk-container-id-2 div.sk-estimator input.sk-toggleable__control:checked~label.sk-toggleable__label {background-color: #d4ebff;}#sk-container-id-2 div.sk-label input.sk-toggleable__control:checked~label.sk-toggleable__label {background-color: #d4ebff;}#sk-container-id-2 input.sk-hidden--visually {border: 0;clip: rect(1px 1px 1px 1px);clip: rect(1px, 1px, 1px, 1px);height: 1px;margin: -1px;overflow: hidden;padding: 0;position: absolute;width: 1px;}#sk-container-id-2 div.sk-estimator {font-family: monospace;background-color: #f0f8ff;border: 1px dotted black;border-radius: 0.25em;box-sizing: border-box;margin-bottom: 0.5em;}#sk-container-id-2 div.sk-estimator:hover {background-color: #d4ebff;}#sk-container-id-2 div.sk-parallel-item::after {content: \"\";width: 100%;border-bottom: 1px solid gray;flex-grow: 1;}#sk-container-id-2 div.sk-label:hover label.sk-toggleable__label {background-color: #d4ebff;}#sk-container-id-2 div.sk-serial::before {content: \"\";position: absolute;border-left: 1px solid gray;box-sizing: border-box;top: 0;bottom: 0;left: 50%;z-index: 0;}#sk-container-id-2 div.sk-serial {display: flex;flex-direction: column;align-items: center;background-color: white;padding-right: 0.2em;padding-left: 0.2em;position: relative;}#sk-container-id-2 div.sk-item {position: relative;z-index: 1;}#sk-container-id-2 div.sk-parallel {display: flex;align-items: stretch;justify-content: center;background-color: white;position: relative;}#sk-container-id-2 div.sk-item::before, #sk-container-id-2 div.sk-parallel-item::before {content: \"\";position: absolute;border-left: 1px solid gray;box-sizing: border-box;top: 0;bottom: 0;left: 50%;z-index: -1;}#sk-container-id-2 div.sk-parallel-item {display: flex;flex-direction: column;z-index: 1;position: relative;background-color: white;}#sk-container-id-2 div.sk-parallel-item:first-child::after {align-self: flex-end;width: 50%;}#sk-container-id-2 div.sk-parallel-item:last-child::after {align-self: flex-start;width: 50%;}#sk-container-id-2 div.sk-parallel-item:only-child::after {width: 0;}#sk-container-id-2 div.sk-dashed-wrapped {border: 1px dashed gray;margin: 0 0.4em 0.5em 0.4em;box-sizing: border-box;padding-bottom: 0.4em;background-color: white;}#sk-container-id-2 div.sk-label label {font-family: monospace;font-weight: bold;display: inline-block;line-height: 1.2em;}#sk-container-id-2 div.sk-label-container {text-align: center;}#sk-container-id-2 div.sk-container {/* jupyter's `normalize.less` sets `[hidden] { display: none; }` but bootstrap.min.css set `[hidden] { display: none !important; }` so we also need the `!important` here to be able to override the default hidden behavior on the sphinx rendered scikit-learn.org. See: https://github.com/scikit-learn/scikit-learn/issues/21755 */display: inline-block !important;position: relative;}#sk-container-id-2 div.sk-text-repr-fallback {display: none;}</style><div id=\"sk-container-id-2\" class=\"sk-top-container\"><div class=\"sk-text-repr-fallback\"><pre>RandomForestClassifier(max_depth=30, min_samples_leaf=2, min_samples_split=10,\n",
       "                       n_estimators=1000, n_jobs=-1, random_state=42)</pre><b>In a Jupyter environment, please rerun this cell to show the HTML representation or trust the notebook. <br />On GitHub, the HTML representation is unable to render, please try loading this page with nbviewer.org.</b></div><div class=\"sk-container\" hidden><div class=\"sk-item\"><div class=\"sk-estimator sk-toggleable\"><input class=\"sk-toggleable__control sk-hidden--visually\" id=\"sk-estimator-id-2\" type=\"checkbox\" checked><label for=\"sk-estimator-id-2\" class=\"sk-toggleable__label sk-toggleable__label-arrow\">RandomForestClassifier</label><div class=\"sk-toggleable__content\"><pre>RandomForestClassifier(max_depth=30, min_samples_leaf=2, min_samples_split=10,\n",
       "                       n_estimators=1000, n_jobs=-1, random_state=42)</pre></div></div></div></div></div>"
      ],
      "text/plain": [
       "RandomForestClassifier(max_depth=30, min_samples_leaf=2, min_samples_split=10,\n",
       "                       n_estimators=1000, n_jobs=-1, random_state=42)"
      ]
     },
     "execution_count": 20,
     "metadata": {},
     "output_type": "execute_result"
    }
   ],
   "source": [
    "#adjust hyperparameters\n",
    "#clf.set_params(max_depth=9, min_samples_split=7, min_samples_leaf=600)\n",
    "\n",
    "#train model\n",
    "clf.fit(X_train, y_train)"
   ]
  },
  {
   "cell_type": "code",
   "execution_count": 21,
   "metadata": {},
   "outputs": [],
   "source": [
    "#make predictions\n",
    "y_pred = clf.predict(X_test)\n",
    "md_pred = clf.predict_proba(df2)"
   ]
  },
  {
   "cell_type": "code",
   "execution_count": 22,
   "metadata": {},
   "outputs": [
    {
     "name": "stdout",
     "output_type": "stream",
     "text": [
      "[0.989388 0.423981 0.896323 ... 0.981297 0.982738 0.982834]\n",
      "Accuracy: 0.923\n",
      "              precision    recall  f1-score   support\n",
      "\n",
      "         0.0       0.93      0.99      0.96      9099\n",
      "         1.0       0.73      0.23      0.35       901\n",
      "\n",
      "    accuracy                           0.92     10000\n",
      "   macro avg       0.83      0.61      0.66     10000\n",
      "weighted avg       0.91      0.92      0.90     10000\n",
      "\n"
     ]
    }
   ],
   "source": [
    "pred = md_pred[:,1]\n",
    "#print mdpred up to 6 decimal places\n",
    "print(md_pred[:,0].round(6))\n",
    "#calculate accuracy\n",
    "score = accuracy_score(y_test, y_pred)\n",
    "print('Accuracy: %.3f' % score)\n",
    "\n",
    "print(classification_report(y_test, y_pred))"
   ]
  },
  {
   "cell_type": "code",
   "execution_count": 13,
   "metadata": {},
   "outputs": [],
   "source": [
    "# Create a DataFrame for the results with RecordID and predicted probability of death\n",
    "results_df = pd.DataFrame({'RecordID': df2['RecordID'] , 'ProbaDeath': pred})\n",
    "\n",
    "# Save the results to a CSV file\n",
    "results_df.to_csv('submission81_25253.csv', index=False)\n"
   ]
  }
 ],
 "metadata": {
  "kernelspec": {
   "display_name": "Python 3",
   "language": "python",
   "name": "python3"
  },
  "language_info": {
   "codemirror_mode": {
    "name": "ipython",
    "version": 3
   },
   "file_extension": ".py",
   "mimetype": "text/x-python",
   "name": "python",
   "nbconvert_exporter": "python",
   "pygments_lexer": "ipython3",
   "version": "3.11.5"
  },
  "orig_nbformat": 4
 },
 "nbformat": 4,
 "nbformat_minor": 2
}
