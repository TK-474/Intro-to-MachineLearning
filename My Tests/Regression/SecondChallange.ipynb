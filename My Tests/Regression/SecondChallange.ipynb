{
 "cells": [
  {
   "cell_type": "markdown",
   "metadata": {},
   "source": [
    "IMPORTS"
   ]
  },
  {
   "cell_type": "code",
   "execution_count": 1,
   "metadata": {},
   "outputs": [],
   "source": [
    "import numpy as np\n",
    "import pandas as pd\n",
    "from sklearn.decomposition import PCA, TruncatedSVD, IncrementalPCA\n",
    "from sklearn.model_selection import train_test_split\n",
    "from sklearn.linear_model import LinearRegression\n",
    "from sklearn.metrics import mean_squared_error\n",
    "from sklearn.preprocessing import StandardScaler, OneHotEncoder, PolynomialFeatures,MinMaxScaler,RobustScaler, LabelEncoder\n",
    "from mlxtend.feature_selection import SequentialFeatureSelector as SFS\n",
    "from sklearn.feature_selection import SelectKBest, f_regression, VarianceThreshold\n",
    "from sklearn.compose import ColumnTransformer\n",
    "from sklearn.pipeline import Pipeline\n",
    "from sklearn.impute import SimpleImputer,KNNImputer\n",
    "import statsmodels.api as sm\n",
    "import matplotlib.pyplot as plt\n",
    "import seaborn as sns\n",
    "\n"
   ]
  },
  {
   "cell_type": "markdown",
   "metadata": {},
   "source": [
    "Read the files "
   ]
  },
  {
   "cell_type": "code",
   "execution_count": 2,
   "metadata": {},
   "outputs": [],
   "source": [
    "train_df = pd.read_csv(\"/Users/talalkhan/Documents/Data Sets/Second Challange/train.csv\")\n",
    "test_df = pd.read_csv(\"/Users/talalkhan/Documents/Data Sets/Second Challange/test.csv\")\n",
    "\n"
   ]
  },
  {
   "cell_type": "markdown",
   "metadata": {},
   "source": [
    "Drop sub_area "
   ]
  },
  {
   "cell_type": "code",
   "execution_count": 3,
   "metadata": {},
   "outputs": [],
   "source": [
    "'''# Identify columns that start with 'sub_area_'\n",
    "sub_area_columns = [col for col in train_df.columns if col.startswith('sub_area_')]\n",
    "\n",
    "# Drop these columns\n",
    "train_df.drop(columns=sub_area_columns, inplace=True)\n",
    "\n",
    "train_df = train_df.drop(columns=['sub_area'])\n",
    "test_df = test_df.drop(columns=['sub_area','row ID'])\n",
    "'''\n",
    "# Drop columns starting with 'sub_area_'\n",
    "sub_area_columns = [col for col in train_df.columns if col.startswith('sub_area_')]\n",
    "train_df.drop(columns=sub_area_columns, inplace=True)\n",
    "\n",
    "# Separate features and target\n",
    "X_train = train_df.drop('price_doc', axis=1)\n",
    "y_train = train_df['price_doc']\n",
    "X_test = test_df.drop(columns=sub_area_columns)\n",
    "\n",
    "# Split the data into training and validation sets\n",
    "#X_train, X_val, y_train, y_val = train_test_split(X, y, test_size=0.2, random_state=42)"
   ]
  },
  {
   "cell_type": "markdown",
   "metadata": {},
   "source": [
    "Handle Categorical Data"
   ]
  },
  {
   "cell_type": "code",
   "execution_count": null,
   "metadata": {},
   "outputs": [],
   "source": [
    "'''#do onehot encoding for categorical columns\n",
    "train_df = pd.get_dummies(train_df)\n",
    "test_df = pd.get_dummies(test_df)\n",
    "'''\n"
   ]
  },
  {
   "cell_type": "code",
   "execution_count": 4,
   "metadata": {},
   "outputs": [],
   "source": [
    "# Identifying categorical and numerical columns\n",
    "categorical_cols = X_train.select_dtypes(include=['object', 'category']).columns\n",
    "numerical_cols = X_train.select_dtypes(exclude=['object', 'category']).columns\n",
    "\n",
    "# Creating preprocessors for numerical and categorical data\n",
    "numerical_transformer = Pipeline(steps=[\n",
    "    #('imputer', SimpleImputer(strategy='mean')),\n",
    "    ('imputer', KNNImputer(n_neighbors=500)),  # KNN imputation\n",
    "    ('scaler', MinMaxScaler())])\n",
    "\n",
    "categorical_transformer = Pipeline(steps=[\n",
    "    ('imputer', SimpleImputer(strategy='most_frequent')),\n",
    "    ('onehot', OneHotEncoder(handle_unknown='ignore'))])\n",
    "    #('label', LabelEncoder())])\n",
    "\n",
    "# Bundle preprocessing for numerical and categorical data\n",
    "preprocessor = ColumnTransformer(\n",
    "    transformers=[\n",
    "        ('num', numerical_transformer, numerical_cols),\n",
    "        ('cat', categorical_transformer, categorical_cols)])"
   ]
  },
  {
   "cell_type": "code",
   "execution_count": 58,
   "metadata": {},
   "outputs": [
    {
     "data": {
      "text/html": [
       "<div>\n",
       "<style scoped>\n",
       "    .dataframe tbody tr th:only-of-type {\n",
       "        vertical-align: middle;\n",
       "    }\n",
       "\n",
       "    .dataframe tbody tr th {\n",
       "        vertical-align: top;\n",
       "    }\n",
       "\n",
       "    .dataframe thead th {\n",
       "        text-align: right;\n",
       "    }\n",
       "</style>\n",
       "<table border=\"1\" class=\"dataframe\">\n",
       "  <thead>\n",
       "    <tr style=\"text-align: right;\">\n",
       "      <th></th>\n",
       "      <th>full_sq</th>\n",
       "      <th>life_sq</th>\n",
       "      <th>floor</th>\n",
       "      <th>product_type</th>\n",
       "      <th>sub_area</th>\n",
       "      <th>area_m</th>\n",
       "      <th>raion_popul</th>\n",
       "      <th>green_zone_part</th>\n",
       "      <th>indust_part</th>\n",
       "      <th>children_preschool</th>\n",
       "      <th>...</th>\n",
       "      <th>cafe_count_5000_price_2500</th>\n",
       "      <th>cafe_count_5000_price_4000</th>\n",
       "      <th>cafe_count_5000_price_high</th>\n",
       "      <th>big_church_count_5000</th>\n",
       "      <th>church_count_5000</th>\n",
       "      <th>mosque_count_5000</th>\n",
       "      <th>leisure_count_5000</th>\n",
       "      <th>sport_count_5000</th>\n",
       "      <th>market_count_5000</th>\n",
       "      <th>price_doc</th>\n",
       "    </tr>\n",
       "  </thead>\n",
       "  <tbody>\n",
       "    <tr>\n",
       "      <th>0</th>\n",
       "      <td>43.0</td>\n",
       "      <td>27.0</td>\n",
       "      <td>4.0</td>\n",
       "      <td>Investment</td>\n",
       "      <td>Bibirevo</td>\n",
       "      <td>6407578.100</td>\n",
       "      <td>155572.0</td>\n",
       "      <td>0.189727</td>\n",
       "      <td>0.000070</td>\n",
       "      <td>9576.0</td>\n",
       "      <td>...</td>\n",
       "      <td>9.0</td>\n",
       "      <td>4.0</td>\n",
       "      <td>0.0</td>\n",
       "      <td>13.0</td>\n",
       "      <td>22.0</td>\n",
       "      <td>1.0</td>\n",
       "      <td>0.0</td>\n",
       "      <td>52.0</td>\n",
       "      <td>4.0</td>\n",
       "      <td>5850000.0</td>\n",
       "    </tr>\n",
       "    <tr>\n",
       "      <th>1</th>\n",
       "      <td>34.0</td>\n",
       "      <td>19.0</td>\n",
       "      <td>3.0</td>\n",
       "      <td>Investment</td>\n",
       "      <td>Nagatinskij Zaton</td>\n",
       "      <td>9589336.912</td>\n",
       "      <td>115352.0</td>\n",
       "      <td>0.372602</td>\n",
       "      <td>0.049637</td>\n",
       "      <td>6880.0</td>\n",
       "      <td>...</td>\n",
       "      <td>15.0</td>\n",
       "      <td>3.0</td>\n",
       "      <td>0.0</td>\n",
       "      <td>15.0</td>\n",
       "      <td>29.0</td>\n",
       "      <td>1.0</td>\n",
       "      <td>10.0</td>\n",
       "      <td>66.0</td>\n",
       "      <td>14.0</td>\n",
       "      <td>6000000.0</td>\n",
       "    </tr>\n",
       "    <tr>\n",
       "      <th>2</th>\n",
       "      <td>43.0</td>\n",
       "      <td>29.0</td>\n",
       "      <td>2.0</td>\n",
       "      <td>Investment</td>\n",
       "      <td>Tekstil'shhiki</td>\n",
       "      <td>4808269.831</td>\n",
       "      <td>101708.0</td>\n",
       "      <td>0.112560</td>\n",
       "      <td>0.118537</td>\n",
       "      <td>5879.0</td>\n",
       "      <td>...</td>\n",
       "      <td>10.0</td>\n",
       "      <td>3.0</td>\n",
       "      <td>0.0</td>\n",
       "      <td>11.0</td>\n",
       "      <td>27.0</td>\n",
       "      <td>0.0</td>\n",
       "      <td>4.0</td>\n",
       "      <td>67.0</td>\n",
       "      <td>10.0</td>\n",
       "      <td>5700000.0</td>\n",
       "    </tr>\n",
       "    <tr>\n",
       "      <th>3</th>\n",
       "      <td>77.0</td>\n",
       "      <td>77.0</td>\n",
       "      <td>4.0</td>\n",
       "      <td>Investment</td>\n",
       "      <td>Basmannoe</td>\n",
       "      <td>8398460.622</td>\n",
       "      <td>108171.0</td>\n",
       "      <td>0.015234</td>\n",
       "      <td>0.037316</td>\n",
       "      <td>5706.0</td>\n",
       "      <td>...</td>\n",
       "      <td>319.0</td>\n",
       "      <td>108.0</td>\n",
       "      <td>17.0</td>\n",
       "      <td>135.0</td>\n",
       "      <td>236.0</td>\n",
       "      <td>2.0</td>\n",
       "      <td>91.0</td>\n",
       "      <td>195.0</td>\n",
       "      <td>14.0</td>\n",
       "      <td>16331452.0</td>\n",
       "    </tr>\n",
       "    <tr>\n",
       "      <th>4</th>\n",
       "      <td>67.0</td>\n",
       "      <td>46.0</td>\n",
       "      <td>14.0</td>\n",
       "      <td>Investment</td>\n",
       "      <td>Nizhegorodskoe</td>\n",
       "      <td>7506452.020</td>\n",
       "      <td>43795.0</td>\n",
       "      <td>0.007670</td>\n",
       "      <td>0.486246</td>\n",
       "      <td>2418.0</td>\n",
       "      <td>...</td>\n",
       "      <td>62.0</td>\n",
       "      <td>14.0</td>\n",
       "      <td>1.0</td>\n",
       "      <td>53.0</td>\n",
       "      <td>78.0</td>\n",
       "      <td>1.0</td>\n",
       "      <td>20.0</td>\n",
       "      <td>113.0</td>\n",
       "      <td>17.0</td>\n",
       "      <td>9100000.0</td>\n",
       "    </tr>\n",
       "  </tbody>\n",
       "</table>\n",
       "<p>5 rows × 272 columns</p>\n",
       "</div>"
      ],
      "text/plain": [
       "   full_sq  life_sq  floor product_type           sub_area       area_m  \\\n",
       "0     43.0     27.0    4.0   Investment           Bibirevo  6407578.100   \n",
       "1     34.0     19.0    3.0   Investment  Nagatinskij Zaton  9589336.912   \n",
       "2     43.0     29.0    2.0   Investment     Tekstil'shhiki  4808269.831   \n",
       "3     77.0     77.0    4.0   Investment          Basmannoe  8398460.622   \n",
       "4     67.0     46.0   14.0   Investment     Nizhegorodskoe  7506452.020   \n",
       "\n",
       "   raion_popul  green_zone_part  indust_part  children_preschool  ...  \\\n",
       "0     155572.0         0.189727     0.000070              9576.0  ...   \n",
       "1     115352.0         0.372602     0.049637              6880.0  ...   \n",
       "2     101708.0         0.112560     0.118537              5879.0  ...   \n",
       "3     108171.0         0.015234     0.037316              5706.0  ...   \n",
       "4      43795.0         0.007670     0.486246              2418.0  ...   \n",
       "\n",
       "   cafe_count_5000_price_2500  cafe_count_5000_price_4000  \\\n",
       "0                         9.0                         4.0   \n",
       "1                        15.0                         3.0   \n",
       "2                        10.0                         3.0   \n",
       "3                       319.0                       108.0   \n",
       "4                        62.0                        14.0   \n",
       "\n",
       "   cafe_count_5000_price_high  big_church_count_5000  church_count_5000  \\\n",
       "0                         0.0                   13.0               22.0   \n",
       "1                         0.0                   15.0               29.0   \n",
       "2                         0.0                   11.0               27.0   \n",
       "3                        17.0                  135.0              236.0   \n",
       "4                         1.0                   53.0               78.0   \n",
       "\n",
       "   mosque_count_5000  leisure_count_5000  sport_count_5000 market_count_5000  \\\n",
       "0                1.0                 0.0              52.0               4.0   \n",
       "1                1.0                10.0              66.0              14.0   \n",
       "2                0.0                 4.0              67.0              10.0   \n",
       "3                2.0                91.0             195.0              14.0   \n",
       "4                1.0                20.0             113.0              17.0   \n",
       "\n",
       "    price_doc  \n",
       "0   5850000.0  \n",
       "1   6000000.0  \n",
       "2   5700000.0  \n",
       "3  16331452.0  \n",
       "4   9100000.0  \n",
       "\n",
       "[5 rows x 272 columns]"
      ]
     },
     "execution_count": 58,
     "metadata": {},
     "output_type": "execute_result"
    }
   ],
   "source": [
    "train_df.head()\n"
   ]
  },
  {
   "cell_type": "markdown",
   "metadata": {},
   "source": [
    "Correlation Finding"
   ]
  },
  {
   "cell_type": "code",
   "execution_count": null,
   "metadata": {},
   "outputs": [],
   "source": [
    "#'''\n",
    "# Select only numeric columns for correlation\n",
    "numeric_cols = train_df.select_dtypes(include=[np.number])\n",
    "\n",
    "# Calculate correlation with price_doc\n",
    "correlation = numeric_cols.corr()['price_doc'].sort_values(ascending=False)\n",
    "#'''\n",
    "'''\n",
    "# Assume 'Investment' is a categorical column\n",
    "one_hot_encoded_data = pd.get_dummies(train_df)\n",
    "\n",
    "# Now calculate the correlation\n",
    "correlation = one_hot_encoded_data.corr()['price_doc'].sort_values(ascending=False)\n",
    "'''\n",
    "print(correlation)\n"
   ]
  },
  {
   "cell_type": "code",
   "execution_count": null,
   "metadata": {},
   "outputs": [],
   "source": [
    "# Set a threshold for correlation\n",
    "correlation_threshold = 0.05\n",
    "\n",
    "# Find columns with correlation less than the threshold\n",
    "columns_to_drop = correlation[abs(correlation) < correlation_threshold].index\n",
    "\n",
    "# Drop these columns from the dataset\n",
    "train_df.drop(columns=columns_to_drop, inplace=True)\n",
    "# Drop the same columns from the test dataset\n",
    "test_df.drop(columns=columns_to_drop, inplace=True)\n"
   ]
  },
  {
   "cell_type": "code",
   "execution_count": null,
   "metadata": {},
   "outputs": [],
   "source": [
    "# Check the remaining columns\n",
    "print(train_df.columns)\n",
    "print(test_df.columns)"
   ]
  },
  {
   "cell_type": "markdown",
   "metadata": {},
   "source": [
    "P-Value (OLS Reg)"
   ]
  },
  {
   "cell_type": "code",
   "execution_count": null,
   "metadata": {},
   "outputs": [],
   "source": [
    "# Add a constant to the model (intercept)\n",
    "X_train = sm.add_constant(X_train)\n",
    "\n",
    "# Fit the OLS model\n",
    "model = sm.OLS(y_train, X_train).fit()(n_jobs=-1)\n",
    "\n",
    "# Summary of the model\n",
    "print(model.summary())\n"
   ]
  },
  {
   "cell_type": "code",
   "execution_count": 1,
   "metadata": {},
   "outputs": [
    {
     "ename": "NameError",
     "evalue": "name 'X_train' is not defined",
     "output_type": "error",
     "traceback": [
      "\u001b[0;31m---------------------------------------------------------------------------\u001b[0m",
      "\u001b[0;31mNameError\u001b[0m                                 Traceback (most recent call last)",
      "\u001b[1;32m/Users/talalkhan/Library/CloudStorage/OneDrive-InstituteofBusinessAdministration/Documents/IBA/Semester 5/Intro. To Machine Learning/My Tests/SecondChallange.ipynb Cell 17\u001b[0m line \u001b[0;36m5\n\u001b[1;32m      <a href='vscode-notebook-cell:/Users/talalkhan/Library/CloudStorage/OneDrive-InstituteofBusinessAdministration/Documents/IBA/Semester%205/Intro.%20To%20Machine%20Learning/My%20Tests/SecondChallange.ipynb#X22sZmlsZQ%3D%3D?line=1'>2</a>\u001b[0m p_value_threshold \u001b[39m=\u001b[39m \u001b[39m0.05\u001b[39m\n\u001b[1;32m      <a href='vscode-notebook-cell:/Users/talalkhan/Library/CloudStorage/OneDrive-InstituteofBusinessAdministration/Documents/IBA/Semester%205/Intro.%20To%20Machine%20Learning/My%20Tests/SecondChallange.ipynb#X22sZmlsZQ%3D%3D?line=3'>4</a>\u001b[0m \u001b[39m# Filter features\u001b[39;00m\n\u001b[0;32m----> <a href='vscode-notebook-cell:/Users/talalkhan/Library/CloudStorage/OneDrive-InstituteofBusinessAdministration/Documents/IBA/Semester%205/Intro.%20To%20Machine%20Learning/My%20Tests/SecondChallange.ipynb#X22sZmlsZQ%3D%3D?line=4'>5</a>\u001b[0m significant_features \u001b[39m=\u001b[39m [feature \u001b[39mfor\u001b[39;00m feature \u001b[39min\u001b[39;00m X_train\u001b[39m.\u001b[39mcolumns \u001b[39mif\u001b[39;00m model\u001b[39m.\u001b[39mpvalues[feature] \u001b[39m<\u001b[39m p_value_threshold]\n\u001b[1;32m      <a href='vscode-notebook-cell:/Users/talalkhan/Library/CloudStorage/OneDrive-InstituteofBusinessAdministration/Documents/IBA/Semester%205/Intro.%20To%20Machine%20Learning/My%20Tests/SecondChallange.ipynb#X22sZmlsZQ%3D%3D?line=5'>6</a>\u001b[0m \u001b[39m#significant_features2 = [feature for feature in X_test.columns if model.pvalues[feature] < p_value_threshold]\u001b[39;00m\n\u001b[1;32m      <a href='vscode-notebook-cell:/Users/talalkhan/Library/CloudStorage/OneDrive-InstituteofBusinessAdministration/Documents/IBA/Semester%205/Intro.%20To%20Machine%20Learning/My%20Tests/SecondChallange.ipynb#X22sZmlsZQ%3D%3D?line=6'>7</a>\u001b[0m \n\u001b[1;32m      <a href='vscode-notebook-cell:/Users/talalkhan/Library/CloudStorage/OneDrive-InstituteofBusinessAdministration/Documents/IBA/Semester%205/Intro.%20To%20Machine%20Learning/My%20Tests/SecondChallange.ipynb#X22sZmlsZQ%3D%3D?line=7'>8</a>\u001b[0m \u001b[39m# Select only significant features for your final model\u001b[39;00m\n\u001b[1;32m      <a href='vscode-notebook-cell:/Users/talalkhan/Library/CloudStorage/OneDrive-InstituteofBusinessAdministration/Documents/IBA/Semester%205/Intro.%20To%20Machine%20Learning/My%20Tests/SecondChallange.ipynb#X22sZmlsZQ%3D%3D?line=8'>9</a>\u001b[0m X_filtered \u001b[39m=\u001b[39m X_train[significant_features]\n",
      "\u001b[0;31mNameError\u001b[0m: name 'X_train' is not defined"
     ]
    }
   ],
   "source": [
    "# Set a threshold for p-values, e.g., 0.05\n",
    "p_value_threshold = 0.05\n",
    "\n",
    "# Filter features\n",
    "significant_features = [feature for feature in X_train.columns if model.pvalues[feature] < p_value_threshold]\n",
    "#significant_features2 = [feature for feature in X_test.columns if model.pvalues[feature] < p_value_threshold]\n",
    "\n",
    "# Select only significant features for your final model\n",
    "X_filtered = X_train[significant_features]\n",
    "X_test_processed = X_test[significant_features] "
   ]
  },
  {
   "cell_type": "markdown",
   "metadata": {},
   "source": [
    "Feature Selection"
   ]
  },
  {
   "cell_type": "code",
   "execution_count": 5,
   "metadata": {},
   "outputs": [],
   "source": [
    "# Apply feature selection\n",
    "feature_selection = SelectKBest(score_func=f_regression, k=80)  # Adjust 'k' as needed\n"
   ]
  },
  {
   "cell_type": "code",
   "execution_count": null,
   "metadata": {},
   "outputs": [],
   "source": [
    "# Initialize VarianceThreshold\n",
    "feature_selection = VarianceThreshold(threshold=0.05)  # Adjust the threshold as needed"
   ]
  },
  {
   "cell_type": "markdown",
   "metadata": {},
   "source": [
    "PCA"
   ]
  },
  {
   "cell_type": "code",
   "execution_count": 6,
   "metadata": {},
   "outputs": [],
   "source": [
    "# Applying PCA\n",
    "pca = PCA(n_components=0.95)  # Retain 95% of variance\n",
    "#svd = TruncatedSVD(n_components=100)  # You may need to tune the number of components\n",
    "\n",
    "# Applying Incremental PCA\n",
    "n_batches = 100  # Adjust the number of batches\n",
    "ipca = IncrementalPCA(n_components=100)  # Adjust the number of components\n"
   ]
  },
  {
   "cell_type": "code",
   "execution_count": null,
   "metadata": {},
   "outputs": [],
   "source": [
    "# Forward Feature Selection\n",
    "sfs = SFS(LinearRegression(), \n",
    "          k_features='best', \n",
    "          forward=True, \n",
    "          scoring='neg_mean_squared_error',\n",
    "          cv=5,\n",
    "          n_jobs=-1)\n"
   ]
  },
  {
   "cell_type": "markdown",
   "metadata": {},
   "source": [
    "MODELS"
   ]
  },
  {
   "cell_type": "code",
   "execution_count": 7,
   "metadata": {},
   "outputs": [],
   "source": [
    "# Train the model using selected features\n",
    "model = LinearRegression()\n",
    "#model.fit(X_train.iloc[:, list(selected_features)], y_train)\n"
   ]
  },
  {
   "cell_type": "code",
   "execution_count": 8,
   "metadata": {},
   "outputs": [],
   "source": [
    "# Generate polynomial features\n",
    "polynomial_transformer = PolynomialFeatures(degree=2, interaction_only=False, include_bias=False)"
   ]
  },
  {
   "cell_type": "markdown",
   "metadata": {},
   "source": [
    "Model the final Pipeline"
   ]
  },
  {
   "cell_type": "code",
   "execution_count": 9,
   "metadata": {},
   "outputs": [
    {
     "data": {
      "text/html": [
       "<style>#sk-container-id-1 {color: black;}#sk-container-id-1 pre{padding: 0;}#sk-container-id-1 div.sk-toggleable {background-color: white;}#sk-container-id-1 label.sk-toggleable__label {cursor: pointer;display: block;width: 100%;margin-bottom: 0;padding: 0.3em;box-sizing: border-box;text-align: center;}#sk-container-id-1 label.sk-toggleable__label-arrow:before {content: \"▸\";float: left;margin-right: 0.25em;color: #696969;}#sk-container-id-1 label.sk-toggleable__label-arrow:hover:before {color: black;}#sk-container-id-1 div.sk-estimator:hover label.sk-toggleable__label-arrow:before {color: black;}#sk-container-id-1 div.sk-toggleable__content {max-height: 0;max-width: 0;overflow: hidden;text-align: left;background-color: #f0f8ff;}#sk-container-id-1 div.sk-toggleable__content pre {margin: 0.2em;color: black;border-radius: 0.25em;background-color: #f0f8ff;}#sk-container-id-1 input.sk-toggleable__control:checked~div.sk-toggleable__content {max-height: 200px;max-width: 100%;overflow: auto;}#sk-container-id-1 input.sk-toggleable__control:checked~label.sk-toggleable__label-arrow:before {content: \"▾\";}#sk-container-id-1 div.sk-estimator input.sk-toggleable__control:checked~label.sk-toggleable__label {background-color: #d4ebff;}#sk-container-id-1 div.sk-label input.sk-toggleable__control:checked~label.sk-toggleable__label {background-color: #d4ebff;}#sk-container-id-1 input.sk-hidden--visually {border: 0;clip: rect(1px 1px 1px 1px);clip: rect(1px, 1px, 1px, 1px);height: 1px;margin: -1px;overflow: hidden;padding: 0;position: absolute;width: 1px;}#sk-container-id-1 div.sk-estimator {font-family: monospace;background-color: #f0f8ff;border: 1px dotted black;border-radius: 0.25em;box-sizing: border-box;margin-bottom: 0.5em;}#sk-container-id-1 div.sk-estimator:hover {background-color: #d4ebff;}#sk-container-id-1 div.sk-parallel-item::after {content: \"\";width: 100%;border-bottom: 1px solid gray;flex-grow: 1;}#sk-container-id-1 div.sk-label:hover label.sk-toggleable__label {background-color: #d4ebff;}#sk-container-id-1 div.sk-serial::before {content: \"\";position: absolute;border-left: 1px solid gray;box-sizing: border-box;top: 0;bottom: 0;left: 50%;z-index: 0;}#sk-container-id-1 div.sk-serial {display: flex;flex-direction: column;align-items: center;background-color: white;padding-right: 0.2em;padding-left: 0.2em;position: relative;}#sk-container-id-1 div.sk-item {position: relative;z-index: 1;}#sk-container-id-1 div.sk-parallel {display: flex;align-items: stretch;justify-content: center;background-color: white;position: relative;}#sk-container-id-1 div.sk-item::before, #sk-container-id-1 div.sk-parallel-item::before {content: \"\";position: absolute;border-left: 1px solid gray;box-sizing: border-box;top: 0;bottom: 0;left: 50%;z-index: -1;}#sk-container-id-1 div.sk-parallel-item {display: flex;flex-direction: column;z-index: 1;position: relative;background-color: white;}#sk-container-id-1 div.sk-parallel-item:first-child::after {align-self: flex-end;width: 50%;}#sk-container-id-1 div.sk-parallel-item:last-child::after {align-self: flex-start;width: 50%;}#sk-container-id-1 div.sk-parallel-item:only-child::after {width: 0;}#sk-container-id-1 div.sk-dashed-wrapped {border: 1px dashed gray;margin: 0 0.4em 0.5em 0.4em;box-sizing: border-box;padding-bottom: 0.4em;background-color: white;}#sk-container-id-1 div.sk-label label {font-family: monospace;font-weight: bold;display: inline-block;line-height: 1.2em;}#sk-container-id-1 div.sk-label-container {text-align: center;}#sk-container-id-1 div.sk-container {/* jupyter's `normalize.less` sets `[hidden] { display: none; }` but bootstrap.min.css set `[hidden] { display: none !important; }` so we also need the `!important` here to be able to override the default hidden behavior on the sphinx rendered scikit-learn.org. See: https://github.com/scikit-learn/scikit-learn/issues/21755 */display: inline-block !important;position: relative;}#sk-container-id-1 div.sk-text-repr-fallback {display: none;}</style><div id=\"sk-container-id-1\" class=\"sk-top-container\"><div class=\"sk-text-repr-fallback\"><pre>Pipeline(steps=[(&#x27;preprocessor&#x27;,\n",
       "                 ColumnTransformer(transformers=[(&#x27;num&#x27;,\n",
       "                                                  Pipeline(steps=[(&#x27;imputer&#x27;,\n",
       "                                                                   KNNImputer(n_neighbors=500)),\n",
       "                                                                  (&#x27;scaler&#x27;,\n",
       "                                                                   MinMaxScaler())]),\n",
       "                                                  Index([&#x27;full_sq&#x27;, &#x27;life_sq&#x27;, &#x27;floor&#x27;, &#x27;area_m&#x27;, &#x27;raion_popul&#x27;,\n",
       "       &#x27;green_zone_part&#x27;, &#x27;indust_part&#x27;, &#x27;children_preschool&#x27;,\n",
       "       &#x27;preschool_education_centers_raion&#x27;, &#x27;children_school&#x27;,\n",
       "       ...\n",
       "       &#x27;cafe_count_5000_price_1500...\n",
       "       &#x27;big_market_raion&#x27;, &#x27;nuclear_reactor_raion&#x27;, &#x27;detention_facility_raion&#x27;,\n",
       "       &#x27;water_1line&#x27;, &#x27;big_road1_1line&#x27;, &#x27;railroad_1line&#x27;, &#x27;ecology&#x27;],\n",
       "      dtype=&#x27;object&#x27;))])),\n",
       "                (&#x27;feature_selection&#x27;,\n",
       "                 SelectKBest(k=80,\n",
       "                             score_func=&lt;function f_regression at 0x17ea3ed40&gt;)),\n",
       "                (&#x27;polynomial&#x27;, PolynomialFeatures(include_bias=False)),\n",
       "                (&#x27;ipca&#x27;, IncrementalPCA(n_components=100)),\n",
       "                (&#x27;linear_model&#x27;, LinearRegression())])</pre><b>In a Jupyter environment, please rerun this cell to show the HTML representation or trust the notebook. <br />On GitHub, the HTML representation is unable to render, please try loading this page with nbviewer.org.</b></div><div class=\"sk-container\" hidden><div class=\"sk-item sk-dashed-wrapped\"><div class=\"sk-label-container\"><div class=\"sk-label sk-toggleable\"><input class=\"sk-toggleable__control sk-hidden--visually\" id=\"sk-estimator-id-1\" type=\"checkbox\" ><label for=\"sk-estimator-id-1\" class=\"sk-toggleable__label sk-toggleable__label-arrow\">Pipeline</label><div class=\"sk-toggleable__content\"><pre>Pipeline(steps=[(&#x27;preprocessor&#x27;,\n",
       "                 ColumnTransformer(transformers=[(&#x27;num&#x27;,\n",
       "                                                  Pipeline(steps=[(&#x27;imputer&#x27;,\n",
       "                                                                   KNNImputer(n_neighbors=500)),\n",
       "                                                                  (&#x27;scaler&#x27;,\n",
       "                                                                   MinMaxScaler())]),\n",
       "                                                  Index([&#x27;full_sq&#x27;, &#x27;life_sq&#x27;, &#x27;floor&#x27;, &#x27;area_m&#x27;, &#x27;raion_popul&#x27;,\n",
       "       &#x27;green_zone_part&#x27;, &#x27;indust_part&#x27;, &#x27;children_preschool&#x27;,\n",
       "       &#x27;preschool_education_centers_raion&#x27;, &#x27;children_school&#x27;,\n",
       "       ...\n",
       "       &#x27;cafe_count_5000_price_1500...\n",
       "       &#x27;big_market_raion&#x27;, &#x27;nuclear_reactor_raion&#x27;, &#x27;detention_facility_raion&#x27;,\n",
       "       &#x27;water_1line&#x27;, &#x27;big_road1_1line&#x27;, &#x27;railroad_1line&#x27;, &#x27;ecology&#x27;],\n",
       "      dtype=&#x27;object&#x27;))])),\n",
       "                (&#x27;feature_selection&#x27;,\n",
       "                 SelectKBest(k=80,\n",
       "                             score_func=&lt;function f_regression at 0x17ea3ed40&gt;)),\n",
       "                (&#x27;polynomial&#x27;, PolynomialFeatures(include_bias=False)),\n",
       "                (&#x27;ipca&#x27;, IncrementalPCA(n_components=100)),\n",
       "                (&#x27;linear_model&#x27;, LinearRegression())])</pre></div></div></div><div class=\"sk-serial\"><div class=\"sk-item sk-dashed-wrapped\"><div class=\"sk-label-container\"><div class=\"sk-label sk-toggleable\"><input class=\"sk-toggleable__control sk-hidden--visually\" id=\"sk-estimator-id-2\" type=\"checkbox\" ><label for=\"sk-estimator-id-2\" class=\"sk-toggleable__label sk-toggleable__label-arrow\">preprocessor: ColumnTransformer</label><div class=\"sk-toggleable__content\"><pre>ColumnTransformer(transformers=[(&#x27;num&#x27;,\n",
       "                                 Pipeline(steps=[(&#x27;imputer&#x27;,\n",
       "                                                  KNNImputer(n_neighbors=500)),\n",
       "                                                 (&#x27;scaler&#x27;, MinMaxScaler())]),\n",
       "                                 Index([&#x27;full_sq&#x27;, &#x27;life_sq&#x27;, &#x27;floor&#x27;, &#x27;area_m&#x27;, &#x27;raion_popul&#x27;,\n",
       "       &#x27;green_zone_part&#x27;, &#x27;indust_part&#x27;, &#x27;children_preschool&#x27;,\n",
       "       &#x27;preschool_education_centers_raion&#x27;, &#x27;children_school&#x27;,\n",
       "       ...\n",
       "       &#x27;cafe_count_5000_price_1500&#x27;, &#x27;cafe_count_5000_price_2500&#x27;,\n",
       "       &#x27;...\n",
       "                                                  OneHotEncoder(handle_unknown=&#x27;ignore&#x27;))]),\n",
       "                                 Index([&#x27;product_type&#x27;, &#x27;sub_area&#x27;, &#x27;culture_objects_top_25&#x27;,\n",
       "       &#x27;thermal_power_plant_raion&#x27;, &#x27;incineration_raion&#x27;,\n",
       "       &#x27;oil_chemistry_raion&#x27;, &#x27;radiation_raion&#x27;, &#x27;railroad_terminal_raion&#x27;,\n",
       "       &#x27;big_market_raion&#x27;, &#x27;nuclear_reactor_raion&#x27;, &#x27;detention_facility_raion&#x27;,\n",
       "       &#x27;water_1line&#x27;, &#x27;big_road1_1line&#x27;, &#x27;railroad_1line&#x27;, &#x27;ecology&#x27;],\n",
       "      dtype=&#x27;object&#x27;))])</pre></div></div></div><div class=\"sk-parallel\"><div class=\"sk-parallel-item\"><div class=\"sk-item\"><div class=\"sk-label-container\"><div class=\"sk-label sk-toggleable\"><input class=\"sk-toggleable__control sk-hidden--visually\" id=\"sk-estimator-id-3\" type=\"checkbox\" ><label for=\"sk-estimator-id-3\" class=\"sk-toggleable__label sk-toggleable__label-arrow\">num</label><div class=\"sk-toggleable__content\"><pre>Index([&#x27;full_sq&#x27;, &#x27;life_sq&#x27;, &#x27;floor&#x27;, &#x27;area_m&#x27;, &#x27;raion_popul&#x27;,\n",
       "       &#x27;green_zone_part&#x27;, &#x27;indust_part&#x27;, &#x27;children_preschool&#x27;,\n",
       "       &#x27;preschool_education_centers_raion&#x27;, &#x27;children_school&#x27;,\n",
       "       ...\n",
       "       &#x27;cafe_count_5000_price_1500&#x27;, &#x27;cafe_count_5000_price_2500&#x27;,\n",
       "       &#x27;cafe_count_5000_price_4000&#x27;, &#x27;cafe_count_5000_price_high&#x27;,\n",
       "       &#x27;big_church_count_5000&#x27;, &#x27;church_count_5000&#x27;, &#x27;mosque_count_5000&#x27;,\n",
       "       &#x27;leisure_count_5000&#x27;, &#x27;sport_count_5000&#x27;, &#x27;market_count_5000&#x27;],\n",
       "      dtype=&#x27;object&#x27;, length=256)</pre></div></div></div><div class=\"sk-serial\"><div class=\"sk-item\"><div class=\"sk-serial\"><div class=\"sk-item\"><div class=\"sk-estimator sk-toggleable\"><input class=\"sk-toggleable__control sk-hidden--visually\" id=\"sk-estimator-id-4\" type=\"checkbox\" ><label for=\"sk-estimator-id-4\" class=\"sk-toggleable__label sk-toggleable__label-arrow\">KNNImputer</label><div class=\"sk-toggleable__content\"><pre>KNNImputer(n_neighbors=500)</pre></div></div></div><div class=\"sk-item\"><div class=\"sk-estimator sk-toggleable\"><input class=\"sk-toggleable__control sk-hidden--visually\" id=\"sk-estimator-id-5\" type=\"checkbox\" ><label for=\"sk-estimator-id-5\" class=\"sk-toggleable__label sk-toggleable__label-arrow\">MinMaxScaler</label><div class=\"sk-toggleable__content\"><pre>MinMaxScaler()</pre></div></div></div></div></div></div></div></div><div class=\"sk-parallel-item\"><div class=\"sk-item\"><div class=\"sk-label-container\"><div class=\"sk-label sk-toggleable\"><input class=\"sk-toggleable__control sk-hidden--visually\" id=\"sk-estimator-id-6\" type=\"checkbox\" ><label for=\"sk-estimator-id-6\" class=\"sk-toggleable__label sk-toggleable__label-arrow\">cat</label><div class=\"sk-toggleable__content\"><pre>Index([&#x27;product_type&#x27;, &#x27;sub_area&#x27;, &#x27;culture_objects_top_25&#x27;,\n",
       "       &#x27;thermal_power_plant_raion&#x27;, &#x27;incineration_raion&#x27;,\n",
       "       &#x27;oil_chemistry_raion&#x27;, &#x27;radiation_raion&#x27;, &#x27;railroad_terminal_raion&#x27;,\n",
       "       &#x27;big_market_raion&#x27;, &#x27;nuclear_reactor_raion&#x27;, &#x27;detention_facility_raion&#x27;,\n",
       "       &#x27;water_1line&#x27;, &#x27;big_road1_1line&#x27;, &#x27;railroad_1line&#x27;, &#x27;ecology&#x27;],\n",
       "      dtype=&#x27;object&#x27;)</pre></div></div></div><div class=\"sk-serial\"><div class=\"sk-item\"><div class=\"sk-serial\"><div class=\"sk-item\"><div class=\"sk-estimator sk-toggleable\"><input class=\"sk-toggleable__control sk-hidden--visually\" id=\"sk-estimator-id-7\" type=\"checkbox\" ><label for=\"sk-estimator-id-7\" class=\"sk-toggleable__label sk-toggleable__label-arrow\">SimpleImputer</label><div class=\"sk-toggleable__content\"><pre>SimpleImputer(strategy=&#x27;most_frequent&#x27;)</pre></div></div></div><div class=\"sk-item\"><div class=\"sk-estimator sk-toggleable\"><input class=\"sk-toggleable__control sk-hidden--visually\" id=\"sk-estimator-id-8\" type=\"checkbox\" ><label for=\"sk-estimator-id-8\" class=\"sk-toggleable__label sk-toggleable__label-arrow\">OneHotEncoder</label><div class=\"sk-toggleable__content\"><pre>OneHotEncoder(handle_unknown=&#x27;ignore&#x27;)</pre></div></div></div></div></div></div></div></div></div></div><div class=\"sk-item\"><div class=\"sk-estimator sk-toggleable\"><input class=\"sk-toggleable__control sk-hidden--visually\" id=\"sk-estimator-id-9\" type=\"checkbox\" ><label for=\"sk-estimator-id-9\" class=\"sk-toggleable__label sk-toggleable__label-arrow\">SelectKBest</label><div class=\"sk-toggleable__content\"><pre>SelectKBest(k=80, score_func=&lt;function f_regression at 0x17ea3ed40&gt;)</pre></div></div></div><div class=\"sk-item\"><div class=\"sk-estimator sk-toggleable\"><input class=\"sk-toggleable__control sk-hidden--visually\" id=\"sk-estimator-id-10\" type=\"checkbox\" ><label for=\"sk-estimator-id-10\" class=\"sk-toggleable__label sk-toggleable__label-arrow\">PolynomialFeatures</label><div class=\"sk-toggleable__content\"><pre>PolynomialFeatures(include_bias=False)</pre></div></div></div><div class=\"sk-item\"><div class=\"sk-estimator sk-toggleable\"><input class=\"sk-toggleable__control sk-hidden--visually\" id=\"sk-estimator-id-11\" type=\"checkbox\" ><label for=\"sk-estimator-id-11\" class=\"sk-toggleable__label sk-toggleable__label-arrow\">IncrementalPCA</label><div class=\"sk-toggleable__content\"><pre>IncrementalPCA(n_components=100)</pre></div></div></div><div class=\"sk-item\"><div class=\"sk-estimator sk-toggleable\"><input class=\"sk-toggleable__control sk-hidden--visually\" id=\"sk-estimator-id-12\" type=\"checkbox\" ><label for=\"sk-estimator-id-12\" class=\"sk-toggleable__label sk-toggleable__label-arrow\">LinearRegression</label><div class=\"sk-toggleable__content\"><pre>LinearRegression()</pre></div></div></div></div></div></div></div>"
      ],
      "text/plain": [
       "Pipeline(steps=[('preprocessor',\n",
       "                 ColumnTransformer(transformers=[('num',\n",
       "                                                  Pipeline(steps=[('imputer',\n",
       "                                                                   KNNImputer(n_neighbors=500)),\n",
       "                                                                  ('scaler',\n",
       "                                                                   MinMaxScaler())]),\n",
       "                                                  Index(['full_sq', 'life_sq', 'floor', 'area_m', 'raion_popul',\n",
       "       'green_zone_part', 'indust_part', 'children_preschool',\n",
       "       'preschool_education_centers_raion', 'children_school',\n",
       "       ...\n",
       "       'cafe_count_5000_price_1500...\n",
       "       'big_market_raion', 'nuclear_reactor_raion', 'detention_facility_raion',\n",
       "       'water_1line', 'big_road1_1line', 'railroad_1line', 'ecology'],\n",
       "      dtype='object'))])),\n",
       "                ('feature_selection',\n",
       "                 SelectKBest(k=80,\n",
       "                             score_func=<function f_regression at 0x17ea3ed40>)),\n",
       "                ('polynomial', PolynomialFeatures(include_bias=False)),\n",
       "                ('ipca', IncrementalPCA(n_components=100)),\n",
       "                ('linear_model', LinearRegression())])"
      ]
     },
     "execution_count": 9,
     "metadata": {},
     "output_type": "execute_result"
    }
   ],
   "source": [
    "pipeline = Pipeline(steps=[('preprocessor', preprocessor),\n",
    "                           ('feature_selection', feature_selection),\n",
    "                            ('polynomial', polynomial_transformer),\n",
    "                            #('svd', svd),\n",
    "                            #('pca', pca),\n",
    "                            ('ipca', ipca),\n",
    "                           ('linear_model', model)\n",
    "                           ])\n",
    "\n",
    "pipeline.fit(X_train, y_train)\n"
   ]
  },
  {
   "cell_type": "code",
   "execution_count": null,
   "metadata": {},
   "outputs": [],
   "source": [
    "'''\n",
    "# Predict on validation set\n",
    "y_pred = pipeline.predict(X_val)\n",
    "\n",
    "# Calculate MSE\n",
    "mse = mean_squared_error(y_val, y_pred)\n",
    "print(f\"Mean Squared Error: {mse}\")\n",
    "'''"
   ]
  },
  {
   "cell_type": "code",
   "execution_count": null,
   "metadata": {},
   "outputs": [],
   "source": [
    "model.fit(X_train, y_train)\n"
   ]
  },
  {
   "cell_type": "code",
   "execution_count": null,
   "metadata": {},
   "outputs": [],
   "source": [
    "# Make predictions\n",
    "y_pred = model.predict(X_test)\n",
    "\n",
    "# Evaluate the model\n",
    "mse = mean_squared_error(X_test, y_pred)\n",
    "print(f'Mean Squared Error: {mse}')\n",
    "\n"
   ]
  },
  {
   "cell_type": "code",
   "execution_count": null,
   "metadata": {},
   "outputs": [],
   "source": [
    "# Predict using the model\n",
    "predicted_prices = model.predict(X_test)\n",
    "\n",
    "print(predicted_prices)"
   ]
  },
  {
   "cell_type": "markdown",
   "metadata": {},
   "source": [
    "Pipeline Predict"
   ]
  },
  {
   "cell_type": "code",
   "execution_count": 10,
   "metadata": {},
   "outputs": [],
   "source": [
    "predicted_prices = pipeline.predict(X_test)\n"
   ]
  },
  {
   "cell_type": "markdown",
   "metadata": {},
   "source": [
    "Make the CSV file"
   ]
  },
  {
   "cell_type": "code",
   "execution_count": 53,
   "metadata": {},
   "outputs": [],
   "source": [
    "#Saving predictions to a CSV file for Kaggle submission\n",
    "\n",
    "result_df = pd.DataFrame({'row ID': test_df['row ID'], 'price_doc': predicted_prices})\n",
    "result_df.to_csv('submission16_25253.csv', index=False)\n"
   ]
  }
 ],
 "metadata": {
  "kernelspec": {
   "display_name": "Python 3",
   "language": "python",
   "name": "python3"
  },
  "language_info": {
   "codemirror_mode": {
    "name": "ipython",
    "version": 3
   },
   "file_extension": ".py",
   "mimetype": "text/x-python",
   "name": "python",
   "nbconvert_exporter": "python",
   "pygments_lexer": "ipython3",
   "version": "3.11.5"
  }
 },
 "nbformat": 4,
 "nbformat_minor": 2
}
